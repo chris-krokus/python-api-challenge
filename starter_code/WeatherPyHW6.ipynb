{
 "cells": [
  {
   "cell_type": "markdown",
   "metadata": {},
   "source": [
    "# WeatherPy\n",
    "----\n",
    "\n",
    "#### Note\n",
    "* Instructions have been included for each segment. You do not have to follow them exactly, but they are included to help you think through the steps."
   ]
  },
  {
   "cell_type": "code",
   "execution_count": 2,
   "metadata": {
    "scrolled": true
   },
   "outputs": [],
   "source": [
    "# Dependencies and Setup\n",
    "import matplotlib.pyplot as plt\n",
    "import pandas as pd\n",
    "import numpy as np\n",
    "import requests\n",
    "import time\n",
    "from scipy.stats import linregress\n",
    "\n",
    "# Import API key\n",
    "from api_keys import weather_api_key\n",
    "\n",
    "# Incorporated citipy to determine city based on latitude and longitude\n",
    "from citipy import citipy\n",
    "\n",
    "# Output File (CSV)\n",
    "output_data_file = \"../output_data/cities.csv\"\n",
    "\n",
    "# Range of latitudes and longitudes\n",
    "lat_range = (-90, 90)\n",
    "lng_range = (-180, 180)\n",
    "\n",
    "#query_url = url + api_key + q= \n",
    "#https://websity {url}{api}\n",
    "#f strings { }"
   ]
  },
  {
   "cell_type": "code",
   "execution_count": 3,
   "metadata": {},
   "outputs": [
    {
     "name": "stdout",
     "output_type": "stream",
     "text": [
      "http://api.openweathermap.org/data/2.5/weather?appid=a34c301a68e21f0b8d5da503eab30b0d&units=imperial&q=\n"
     ]
    }
   ],
   "source": [
    "# Save config information.\n",
    "url = \"http://api.openweathermap.org/data/2.5/weather?\"\n",
    "units = \"imperial\"\n",
    "\n",
    "# Build partial query URL\n",
    "query_url = f\"{url}appid={weather_api_key}&units={units}&q=\"\n",
    "print(query_url)"
   ]
  },
  {
   "cell_type": "markdown",
   "metadata": {},
   "source": [
    "## Generate Cities List"
   ]
  },
  {
   "cell_type": "code",
   "execution_count": 48,
   "metadata": {},
   "outputs": [
    {
     "data": {
      "text/plain": [
       "620"
      ]
     },
     "execution_count": 48,
     "metadata": {},
     "output_type": "execute_result"
    }
   ],
   "source": [
    "# List for holding lat_lngs and cities\n",
    "lat_lngs = []\n",
    "cities = []\n",
    "\n",
    "# Create a set of random lat and lng combinations\n",
    "lats = np.random.uniform(lat_range[0], lat_range[1], size=1500)\n",
    "lngs = np.random.uniform(lng_range[0], lng_range[1], size=1500)\n",
    "lat_lngs = zip(lats, lngs)\n",
    "\n",
    "# Identify nearest city for each lat, lng combination\n",
    "for lat_lng in lat_lngs:\n",
    "    city = citipy.nearest_city(lat_lng[0], lat_lng[1]).city_name\n",
    "    \n",
    "    # If the city is unique, then add it to a our cities list\n",
    "    if city not in cities:\n",
    "        cities.append(city)\n",
    "\n",
    "# Print the city count to confirm sufficient count\n",
    "len(cities)"
   ]
  },
  {
   "cell_type": "code",
   "execution_count": 49,
   "metadata": {
    "scrolled": false
   },
   "outputs": [
    {
     "data": {
      "text/plain": [
       "{'coord': {'lon': 69.77, 'lat': 21.93},\n",
       " 'weather': [{'id': 800,\n",
       "   'main': 'Clear',\n",
       "   'description': 'clear sky',\n",
       "   'icon': '01n'}],\n",
       " 'base': 'stations',\n",
       " 'main': {'temp': 76.71,\n",
       "  'feels_like': 81.99,\n",
       "  'temp_min': 76.71,\n",
       "  'temp_max': 76.71,\n",
       "  'pressure': 1007,\n",
       "  'humidity': 91,\n",
       "  'sea_level': 1007,\n",
       "  'grnd_level': 1000},\n",
       " 'wind': {'speed': 7.87, 'deg': 297},\n",
       " 'clouds': {'all': 0},\n",
       " 'dt': 1588373234,\n",
       " 'sys': {'country': 'IN', 'sunrise': 1588380510, 'sunset': 1588427227},\n",
       " 'timezone': 19800,\n",
       " 'id': 1276147,\n",
       " 'name': 'Bhānvad',\n",
       " 'cod': 200}"
      ]
     },
     "execution_count": 49,
     "metadata": {},
     "output_type": "execute_result"
    }
   ],
   "source": [
    "response"
   ]
  },
  {
   "cell_type": "markdown",
   "metadata": {},
   "source": [
    "### Perform API Calls\n",
    "* Perform a weather check on each city using a series of successive API calls.\n",
    "* Include a print log of each city as it'sbeing processed (with the city number and city name).\n"
   ]
  },
  {
   "cell_type": "code",
   "execution_count": 52,
   "metadata": {},
   "outputs": [
    {
     "name": "stdout",
     "output_type": "stream",
     "text": [
      "Processed umm lajj\n",
      "Processed vaini\n",
      "Processed victoria\n",
      "Processed oranjemund\n",
      "Processed punta arenas\n",
      "Processed fare\n",
      "Processed georgetown\n",
      "Processed pueblo\n",
      "Processed rikitea\n",
      "Processed marsabit\n",
      "Processed kawalu\n",
      "Processed hofn\n",
      "Processed three hills\n",
      "Processed cape town\n",
      "Processed severo-kurilsk\n",
      "Processed new norfolk\n",
      "Processed mozarlandia\n",
      "Processed san cristobal\n",
      "Processed bredasdorp\n",
      "Processed kloulklubed\n",
      "Processed sinnamary\n",
      "Processed bethel\n",
      "Processed uyemskiy\n",
      "Processed ostrovnoy\n",
      "Processed cockburn town\n",
      "Processed porto velho\n",
      "Processed marawi\n",
      "Processed ribeira grande\n",
      "Processed taolanaro\n",
      "City Not Found\n",
      "Processed hermanus\n",
      "Processed hamilton\n",
      "Processed albany\n",
      "Processed hilo\n",
      "Processed namatanai\n",
      "Processed jamestown\n",
      "Processed port alfred\n",
      "Processed nhulunbuy\n",
      "Processed kahului\n",
      "Processed puerto ayora\n",
      "Processed sola\n",
      "Processed san quintin\n",
      "Processed basco\n",
      "Processed pafos\n",
      "Processed barentsburg\n",
      "City Not Found\n",
      "Processed ushuaia\n",
      "Processed kenai\n",
      "Processed nizhneyansk\n",
      "City Not Found\n",
      "Processed chokurdakh\n",
      "Processed lavrentiya\n",
      "Processed hithadhoo\n",
      "Processed bluff\n",
      "Processed hobart\n",
      "Processed real\n",
      "Processed moctezuma\n",
      "Processed lunenburg\n",
      "Processed russell\n",
      "Processed barinas\n",
      "Processed bilma\n",
      "Processed busselton\n",
      "Processed port elizabeth\n",
      "Processed port keats\n",
      "Processed illoqqortoormiut\n",
      "City Not Found\n",
      "Processed noormarkku\n",
      "Processed matagami\n",
      "Processed coquimbo\n",
      "Processed lebu\n",
      "Processed namibe\n",
      "Processed krasnoobsk\n",
      "Processed hendijan\n",
      "City Not Found\n",
      "Processed inirida\n",
      "Processed bangsund\n",
      "Processed samarai\n",
      "Processed smithers\n",
      "Processed mataura\n",
      "Processed pokhara\n",
      "Processed sentyabrskiy\n",
      "City Not Found\n",
      "Processed portland\n",
      "Processed cherskiy\n",
      "Processed bavly\n",
      "Processed zhangye\n",
      "Processed cocorit\n",
      "Processed thompson\n",
      "Processed longyearbyen\n",
      "Processed fortuna\n",
      "Processed bargal\n",
      "City Not Found\n",
      "Processed kiama\n",
      "Processed broome\n",
      "Processed san rafael\n",
      "Processed sao filipe\n",
      "Processed butaritari\n",
      "Processed margate\n",
      "Processed tsihombe\n",
      "City Not Found\n",
      "Processed zheshart\n",
      "Processed broken hill\n",
      "Processed evensk\n",
      "Processed itarema\n",
      "Processed husavik\n",
      "Processed rawson\n",
      "Processed sur\n",
      "Processed tuktoyaktuk\n",
      "Processed vardo\n",
      "Processed khatanga\n",
      "Processed bowmore\n",
      "Processed markova\n",
      "Processed jijiga\n",
      "Processed makakilo city\n",
      "Processed luganville\n",
      "Processed acarau\n",
      "Processed burnie\n",
      "Processed samusu\n",
      "City Not Found\n",
      "Processed abha\n",
      "Processed san andres\n",
      "Processed east london\n",
      "Processed saint george\n",
      "Processed barrow\n",
      "Processed verkhoyansk\n",
      "Processed nikolskoye\n",
      "Processed marv dasht\n",
      "City Not Found\n",
      "Processed goderich\n",
      "Processed klaksvik\n",
      "Processed esperance\n",
      "Processed vung tau\n",
      "Processed conceicao do araguaia\n",
      "Processed xining\n",
      "Processed chimbote\n",
      "Processed yulara\n",
      "Processed lagoa\n",
      "Processed kununurra\n",
      "Processed luderitz\n",
      "Processed ahar\n",
      "Processed lugovoy\n",
      "Processed quatre cocos\n",
      "Processed taganak\n",
      "Processed langsa\n",
      "Processed sao joao da barra\n",
      "Processed port hedland\n",
      "Processed dikson\n",
      "Processed viligili\n",
      "City Not Found\n",
      "Processed kapaa\n",
      "Processed pochinki\n",
      "Processed mathbaria\n",
      "Processed vila franca do campo\n",
      "Processed qaanaaq\n",
      "Processed alto parana\n",
      "Processed adrar\n",
      "Processed pevek\n",
      "Processed bonnyville\n",
      "Processed cotonou\n",
      "Processed tapaua\n",
      "City Not Found\n",
      "Processed kodiak\n",
      "Processed sisimiut\n",
      "Processed mackay\n",
      "Processed flinders\n",
      "Processed tasiilaq\n",
      "Processed camacha\n",
      "Processed whitehorse\n",
      "Processed constitucion\n",
      "Processed beringovskiy\n",
      "Processed mys shmidta\n",
      "City Not Found\n",
      "Processed sungairaya\n",
      "Processed hasaki\n",
      "Processed faanui\n",
      "Processed mount gambier\n",
      "Processed dingle\n",
      "Processed puerto narino\n",
      "Processed upernavik\n",
      "Processed coihaique\n",
      "Processed bengkulu\n",
      "Processed joetsu\n",
      "Processed guadalupe\n",
      "Processed paamiut\n",
      "Processed talawdi\n",
      "City Not Found\n",
      "Processed barawe\n",
      "City Not Found\n",
      "Processed yellowknife\n",
      "Processed xinzhou\n",
      "Processed napasar\n",
      "Processed shingu\n",
      "Processed west bay\n",
      "Processed college\n",
      "Processed sinazongwe\n",
      "Processed barra do garcas\n",
      "Processed tigil\n",
      "Processed isla vista\n",
      "Processed iqaluit\n",
      "Processed bayangol\n",
      "Processed barranquilla\n",
      "Processed manzil salim\n",
      "Processed mancio lima\n",
      "Processed tessaoua\n",
      "Processed honghu\n",
      "Processed lorengau\n",
      "Processed buala\n",
      "Processed atuona\n",
      "Processed xinyang\n",
      "Processed beppu\n",
      "Processed ramganj\n",
      "Processed aguimes\n",
      "Processed czarnkow\n",
      "Processed houma\n",
      "Processed saskylakh\n",
      "Processed little current\n",
      "Processed chuy\n",
      "Processed udachnyy\n",
      "Processed tiksi\n",
      "Processed valparaiso\n",
      "Processed mahebourg\n",
      "Processed laramie\n",
      "Processed torata\n",
      "Processed mbumi\n",
      "Processed raudeberg\n",
      "Processed nome\n",
      "Processed belushya guba\n",
      "City Not Found\n",
      "Processed riyadh\n",
      "Processed ballina\n",
      "Processed yining\n",
      "Processed rock sound\n",
      "Processed palabuhanratu\n",
      "City Not Found\n",
      "Processed thai binh\n",
      "Processed lashio\n",
      "Processed songjianghe\n",
      "Processed sidi ali\n",
      "Processed mwingi\n",
      "Processed dunedin\n",
      "Processed stokmarknes\n",
      "Processed vanimo\n",
      "Processed vila velha\n",
      "Processed ugoofaaru\n",
      "Processed rocha\n",
      "Processed the valley\n",
      "Processed southbridge\n",
      "Processed muli\n",
      "Processed jalu\n",
      "Processed wattegama\n",
      "Processed okhotsk\n",
      "Processed ilulissat\n",
      "Processed mvuma\n",
      "Processed boddam\n",
      "Processed cayenne\n",
      "Processed plaster rock\n",
      "Processed tairua\n",
      "Processed aitape\n",
      "Processed along\n",
      "Processed otofuke\n",
      "Processed arenapolis\n",
      "Processed ponta do sol\n",
      "Processed brigantine\n",
      "Processed arraial do cabo\n",
      "Processed avarua\n",
      "Processed kisangani\n",
      "Processed aykhal\n",
      "Processed cidreira\n",
      "Processed airai\n",
      "Processed nioro\n",
      "Processed roura\n",
      "Processed bryan\n",
      "Processed cabo san lucas\n",
      "Processed severnoye\n",
      "Processed mogok\n",
      "Processed henderson\n",
      "Processed auki\n",
      "Processed sorong\n",
      "Processed astoria\n",
      "Processed castro\n",
      "Processed mandalgovi\n",
      "Processed alice springs\n",
      "Processed san antonio\n",
      "Processed the pas\n",
      "Processed denpasar\n",
      "Processed manzanillo\n",
      "Processed kavieng\n",
      "Processed piacabucu\n",
      "Processed lanxi\n",
      "Processed ancud\n",
      "Processed peniche\n",
      "Processed port lincoln\n",
      "Processed torbay\n",
      "Processed paita\n",
      "Processed carnarvon\n",
      "Processed antanifotsy\n",
      "Processed kavaratti\n",
      "Processed saint-philippe\n",
      "Processed verkhnevilyuysk\n",
      "Processed nanortalik\n",
      "Processed komsomolskiy\n",
      "Processed joshimath\n",
      "Processed kroonstad\n",
      "Processed chodavaram\n",
      "Processed hare bay\n",
      "Processed sitka\n",
      "Processed tessalit\n",
      "Processed saldanha\n",
      "Processed campbell river\n",
      "Processed sambava\n",
      "Processed balakovo\n",
      "Processed karpathos\n",
      "Processed khabary\n",
      "Processed kaitangata\n",
      "Processed lahad datu\n",
      "Processed sorvag\n",
      "City Not Found\n",
      "Processed harper\n",
      "Processed mayskiy\n",
      "Processed la ronge\n",
      "Processed chorbog\n",
      "City Not Found\n",
      "Processed stromness\n",
      "Processed rust\n",
      "Processed kungurtug\n",
      "Processed muisne\n",
      "Processed nizhniy tsasuchey\n",
      "Processed bambous virieux\n",
      "Processed khandyga\n",
      "Processed cururupu\n",
      "Processed deputatskiy\n",
      "Processed plettenberg bay\n",
      "Processed manzhouli\n",
      "Processed high prairie\n",
      "Processed vaitupu\n",
      "City Not Found\n",
      "Processed norman wells\n",
      "Processed geraldton\n",
      "Processed jibuti\n",
      "Processed fuyang\n",
      "Processed mar del plata\n",
      "Processed half moon bay\n",
      "Processed birjand\n",
      "Processed arrecife\n",
      "Processed pisco\n",
      "Processed surovatikha\n",
      "Processed cam pha\n",
      "City Not Found\n",
      "Processed turukhansk\n",
      "Processed trairi\n",
      "Processed placido de castro\n",
      "Processed hokitika\n",
      "Processed north bend\n",
      "Processed hihifo\n",
      "City Not Found\n",
      "Processed provideniya\n",
      "Processed dongsheng\n",
      "Processed zhezkazgan\n",
      "Processed tilichiki\n",
      "Processed kota belud\n",
      "Processed solnechnyy\n",
      "Processed port blair\n",
      "Processed boa vista\n",
      "Processed bowen\n",
      "Processed saint-francois\n",
      "Processed bandarbeyla\n",
      "Processed kharovsk\n",
      "Processed laguna\n",
      "Processed falealupo\n",
      "City Not Found\n",
      "Processed rungata\n",
      "City Not Found\n",
      "Processed corn island\n",
      "Processed caimito\n",
      "Processed luang prabang\n",
      "Processed zhoucheng\n",
      "Processed nemuro\n",
      "Processed dakar\n",
      "Processed tres arroyos\n",
      "Processed petropavlovsk-kamchatskiy\n",
      "Processed tura\n",
      "Processed andenes\n",
      "Processed katsuura\n",
      "Processed guerrero negro\n",
      "Processed vila do maio\n",
      "Processed villazon\n",
      "Processed luchegorsk\n",
      "Processed pacific grove\n",
      "Processed rubiataba\n",
      "Processed lompoc\n",
      "Processed inuvik\n",
      "Processed ahipara\n",
      "Processed mecca\n",
      "Processed angola\n",
      "Processed srivardhan\n",
      "Processed hualmay\n",
      "Processed gat\n",
      "Processed sirjan\n",
      "Processed iquitos\n",
      "Processed novyy urgal\n",
      "Processed viedma\n",
      "Processed elk city\n",
      "Processed santiago del estero\n",
      "Processed taltal\n",
      "Processed vestmanna\n",
      "Processed virtsu\n",
      "Processed hammerfest\n",
      "Processed goshogawara\n",
      "Processed caravelas\n",
      "Processed yirol\n",
      "City Not Found\n",
      "Processed mount isa\n",
      "Processed bose\n",
      "Processed ratnagiri\n",
      "Processed muncar\n",
      "Processed sarakhs\n",
      "Processed rimouski\n",
      "Processed mayo\n",
      "Processed izumo\n",
      "Processed formoso do araguaia\n",
      "City Not Found\n",
      "Processed chicama\n",
      "Processed alghero\n",
      "Processed saleaula\n",
      "City Not Found\n",
      "Processed harnosand\n",
      "Processed haines junction\n",
      "Processed minab\n"
     ]
    },
    {
     "name": "stdout",
     "output_type": "stream",
     "text": [
      "Processed tazmalt\n",
      "Processed ouesso\n",
      "Processed najran\n",
      "Processed winnemucca\n",
      "Processed swan hill\n",
      "Processed brightwater\n",
      "Processed ngukurr\n",
      "City Not Found\n",
      "Processed gbarnga\n",
      "Processed tshikapa\n",
      "Processed anadyr\n",
      "Processed suicheng\n",
      "Processed bisira\n",
      "Processed hanting\n",
      "Processed mindelo\n",
      "Processed huarmey\n",
      "Processed tir pol\n",
      "City Not Found\n",
      "Processed mareeba\n",
      "Processed sawakin\n",
      "Processed nadym\n",
      "Processed san patricio\n",
      "Processed kajiado\n",
      "Processed kulu\n",
      "Processed batemans bay\n",
      "Processed puerto penasco\n",
      "Processed salalah\n",
      "Processed grand river south east\n",
      "City Not Found\n",
      "Processed saint-georges\n",
      "Processed caldwell\n",
      "Processed coahuayana\n",
      "Processed qui nhon\n",
      "Processed balimo\n",
      "City Not Found\n",
      "Processed ningan\n",
      "City Not Found\n",
      "Processed gatak\n",
      "Processed bredy\n",
      "Processed dehloran\n",
      "Processed tual\n",
      "Processed praia da vitoria\n",
      "Processed anito\n",
      "Processed faya\n",
      "Processed shintomi\n",
      "Processed treinta y tres\n",
      "Processed jiazi\n",
      "Processed humaita\n",
      "Processed amderma\n",
      "City Not Found\n",
      "Processed hambantota\n",
      "Processed black river\n",
      "Processed grindavik\n",
      "Processed abiy adi\n",
      "City Not Found\n",
      "Processed attawapiskat\n",
      "City Not Found\n",
      "Processed petukhovo\n",
      "Processed itaituba\n",
      "Processed manasia\n",
      "Processed canyon lake\n",
      "Processed flin flon\n",
      "Processed isangel\n",
      "Processed gravdal\n",
      "Processed luceville\n",
      "City Not Found\n",
      "Processed savonlinna\n",
      "Processed myaundzha\n",
      "Processed malanville\n",
      "Processed codrington\n",
      "Processed cukai\n",
      "Processed talnakh\n",
      "Processed yar-sale\n",
      "Processed fort nelson\n",
      "Processed neyshabur\n",
      "Processed berlevag\n",
      "Processed general roca\n",
      "Processed uniontown\n",
      "Processed shadrinsk\n",
      "Processed ust-kuyga\n",
      "Processed opuwo\n",
      "Processed te anau\n",
      "Processed cervo\n",
      "Processed yumen\n",
      "Processed biak\n",
      "Processed toftir\n",
      "City Not Found\n",
      "Processed swarzedz\n",
      "Processed popondetta\n",
      "Processed muroto\n",
      "Processed rio cuarto\n",
      "Processed marcona\n",
      "City Not Found\n",
      "Processed bubaque\n",
      "Processed san carlos de bariloche\n",
      "Processed zeya\n",
      "Processed sabaudia\n",
      "Processed staryy nadym\n",
      "Processed rawannawi\n",
      "City Not Found\n",
      "Processed palmer\n",
      "Processed waipawa\n",
      "Processed sydney\n",
      "Processed tumannyy\n",
      "City Not Found\n",
      "Processed port-gentil\n",
      "Processed laje\n",
      "Processed labuhan\n",
      "Processed bartica\n",
      "Processed vao\n",
      "Processed havre-saint-pierre\n",
      "Processed padang\n",
      "Processed souillac\n",
      "Processed beyneu\n",
      "Processed ayan\n",
      "Processed lehigh acres\n",
      "Processed dodge city\n",
      "Processed wewak\n",
      "Processed mao\n",
      "Processed suhbaatar\n",
      "Processed gurupi\n",
      "Processed neuquen\n",
      "Processed carros\n",
      "Processed dien bien\n",
      "City Not Found\n",
      "Processed hof\n",
      "Processed tahoua\n",
      "Processed bestobe\n",
      "Processed clyde river\n",
      "Processed henties bay\n",
      "Processed ilhabela\n",
      "Processed sangar\n",
      "Processed hami\n",
      "Processed omboue\n",
      "Processed altay\n",
      "Processed aflu\n",
      "City Not Found\n",
      "Processed bayan\n",
      "Processed aksehir\n",
      "Processed banjar\n",
      "Processed ewa beach\n",
      "Processed port hardy\n",
      "Processed sorland\n",
      "Processed bardiyah\n",
      "Processed puerto escondido\n",
      "Processed garissa\n",
      "Processed kibre mengist\n",
      "Processed urusha\n",
      "Processed zaozerne\n",
      "Processed lieksa\n",
      "Processed moussoro\n",
      "Processed road town\n",
      "Processed abu samrah\n",
      "Processed weihe\n",
      "Processed ponta delgada\n",
      "Processed yarada\n",
      "Processed macaboboni\n",
      "City Not Found\n",
      "Processed buariki\n",
      "City Not Found\n",
      "Processed tabas\n",
      "Processed aljezur\n",
      "Processed tuatapere\n",
      "Processed vaitape\n",
      "Processed tome\n",
      "Processed karaul\n",
      "City Not Found\n",
      "Processed halalo\n",
      "City Not Found\n",
      "Processed jeremie\n",
      "Processed thio\n",
      "Processed puerto del rosario\n",
      "Processed muravlenko\n",
      "Processed sao felix do xingu\n",
      "Processed kondinskoye\n",
      "Processed snasa\n",
      "Processed inongo\n",
      "Processed shelburne\n",
      "Processed kuusamo\n",
      "Processed bundibugyo\n",
      "Processed krotoszyn\n",
      "Processed necochea\n",
      "Processed abnub\n",
      "Processed hato mayor\n",
      "Processed key west\n",
      "Processed jardim\n",
      "Processed nam tha\n",
      "City Not Found\n",
      "Processed manono\n",
      "Processed nizhniy kuranakh\n",
      "Processed byron bay\n",
      "Processed naze\n",
      "Processed salvador\n",
      "Processed palora\n",
      "Processed los llanos de aridane\n",
      "Processed tiarei\n",
      "Processed pasaje\n",
      "Processed santa fe\n",
      "Processed ahuimanu\n",
      "Processed baruun-urt\n",
      "Processed tabiauea\n",
      "City Not Found\n",
      "Processed mokhsogollokh\n",
      "Processed pronsk\n",
      "Processed mildura\n",
      "Processed leshukonskoye\n",
      "Processed elizabeth city\n",
      "Processed porbandar\n",
      "Processed kruisfontein\n",
      "Processed bolungarvik\n",
      "City Not Found\n",
      "Processed mossendjo\n",
      "Processed aklavik\n",
      "Processed guamal\n",
      "Processed qasigiannguit\n",
      "Processed la palma\n",
      "Processed tarko-sale\n",
      "Processed aberdeen\n",
      "Processed yanchukan\n",
      "City Not Found\n",
      "Processed sulangan\n",
      "Processed louisbourg\n",
      "City Not Found\n",
      "Processed urengoy\n",
      "Processed upata\n",
      "Processed rio gallegos\n",
      "Processed raga\n",
      "Processed tarija\n",
      "Processed ganta\n",
      "Processed turtas\n",
      "Processed umzimvubu\n",
      "City Not Found\n",
      "Processed lida\n",
      "Processed mayumba\n",
      "Processed xilopolis\n",
      "Processed tiznit\n",
      "Processed klyuchi\n",
      "Processed zhaotong\n",
      "Processed maku\n",
      "Processed sechura\n",
      "Processed kangaatsiaq\n",
      "Processed kasempa\n",
      "Processed novo aripuana\n",
      "Processed ornskoldsvik\n",
      "The latitude information received is: [25.02, -21.2, 22.29, -28.55, -53.15, -16.7, 5.41, 38.25, -23.12, 2.33, -7.38, 64.25, 51.7, -33.93, 50.68, -42.78, -14.74, 7.77, -34.53, 7.04, 5.38, 41.37, 64.47, 68.05, 21.46, -8.76, 8, 38.52, -34.42, 39.18, 42.6, 19.73, -3.67, 42.1, -33.59, -12.23, 20.89, -0.74, -13.88, 30.48, 20.45, 34.77, -54.8, 60.55, 70.63, 65.58, -0.6, -46.6, -42.88, 14.66, 29.8, 44.38, 32.35, 8.62, 18.69, -33.65, -33.92, -14.25, 61.59, 49.75, -29.95, -37.62, -15.2, 54.92, 3.87, 64.4, -10.62, 54.78, -46.19, 28.23, 45.52, 68.75, 54.39, 38.93, 27.58, 55.74, 78.22, 40.6, -34.68, 42.25, -34.62, 14.9, 3.07, 51.38, 62.07, -31.95, 61.95, -2.92, 66.04, -43.3, 22.57, 69.45, 70.37, 71.97, 34.94, 48.68, 9.35, 21.35, -15.53, -2.89, -41.07, 18.22, 12.58, -33.02, 37.1, 71.29, 67.54, 59.7, 43.75, 62.23, -33.87, 10.35, -8.26, 36.62, -9.09, -25.24, 39.05, -15.77, -26.65, 38.48, 42.95, -20.21, 6.08, 4.47, -21.64, -20.32, 73.51, 22.08, 54.7, 22.29, 37.72, 77.48, -23.13, 20.5, 69.7, 54.27, 6.37, 57.79, 66.94, -21.15, -34.58, 65.61, 33.08, 60.72, -35.33, 63.05, 0.7, 35.73, -16.48, -37.83, 11, -3.77, 72.79, -45.58, -3.8, 37.15, 25.68, 61.99, 62.46, 38.41, 27.97, 33.73, 19.37, 64.86, -17.26, -15.89, 57.8, 34.41, 63.75, 50.7, 10.96, 35.86, -7.61, 13.76, 29.82, -2.02, -8.14, -9.8, 32.12, 33.27, 23.1, 27.91, 52.9, 29.6, 71.92, 45.98, -33.7, 66.42, 71.69, -33.04, -20.41, 41.31, -17.08, -7.91, 61.99, 64.5, 24.69, -28.87, 29.04, 24.9, 20.45, 22.93, 42.19, 36.1, -0.93, -45.87, 68.56, -2.67, -20.33, 5.67, -34.48, 18.22, 42.08, 2.92, 29.03, 6.8, 59.38, 69.22, -19.28, 57.47, 4.93, 46.91, -37.02, -3.14, 28.17, 42.99, -14.45, 32.67, 39.41, -22.97, -21.21, 0.52, 66, -30.18, -8.93, 13.35, 4.73, 30.67, 22.89, 56.35, 22.92, 36.04, -8.77, -0.88, 46.19, -24.79, 45.76, -23.7, 29.42, 53.83, -8.65, 20.34, -2.57, -10.41, 29.22, -41.87, 39.36, -34.73, 47.67, -5.09, -24.87, -19.65, 10.57, -21.36, 63.45, 60.14, 40.43, 30.57, -27.65, 17.83, 48.85, 57.05, 20.2, -33.01, 50.02, -14.27, 52.03, 35.51, 53.63, -46.28, 5.03, 4.38, 47.69, 55.1, 58.97, 48.27, 50.6, 0.6, 50.52, -20.34, 62.67, -1.83, 69.3, -34.05, 49.6, 55.43, 65.28, -28.77, 11.5, 32.9, -38, 37.46, 32.87, 28.96, -13.7, 55.77, 65.82, -3.28, -10.34, -42.72, 43.41, 64.38, 39.82, 47.8, 60.47, 6.35, 50.72, 11.67, 2.82, -20.02, 46.42, 9.49, 59.96, 38.42, 12.17, 8.81, 19.89, 35.91, 43.32, 14.69, -38.37, 53.05, 25.52, 69.31, 35.13, 27.98, 15.13, -22.09, 46.48, 36.62, -15.16, 34.64, 68.35, -35.17, 21.43, -12.5, 18.03, -11.1, 31.61, 29.45, -3.75, 51.07, -40.81, 35.41, -27.8, -25.4, 62.16, 58.57, 70.66, 40.8, -17.71, -20.73, 45.46, 16.98, -8.43, 36.54, 48.45, 38.89, 35.37, -7.84, 40.56, 62.63, 60.75, 27.15, 36.39, 1.61, 17.49, 40.97, -35.34, -41.38, 7, -6.42, 64.75, 33.9, 8.52, 36.77, 16.89, -10.07, -17, 19.11, 65.53, 19.22, -1.85, 39.1, -35.72, 31.32, 17.02, 12.06, 43.66, 18.73, 13.77, -7.59, 52.42, 32.69, -5.67, 38.73, 12.45, 18.39, 32.08, -33.23, 22.88, -7.51, 6.12, 18.03, 63.84, 55.07, -4.28, 44.7, 29.88, 54.77, -19.55, 68.12, 61.87, 63.05, 11.87, -38.27, 4.25, 69.49, 66.83, 58.81, 36.21, 70.86, -39.03, 39.9, 56.09, 70.02, -18.06, -45.42, 43.67, 40.28, -0.91, 52.41, -8.75, 33.28, -33.13, 11.28, -41.15, 53.75, 41.3, 65.61, 42.16, -41.41, -33.87, -0.72, -10.18, -6.88, 6.4, -22.67, 50.23, -0.95, -20.52, 45.32, 56.45, 26.63, 37.75, -3.55, 39.89, 50.23, -11.73, -38.95, 43.79, 50.32, 14.89, 52.5, 70.47, -22.12, -23.78, 63.92, 42.8, -1.57, 47.87, 46.08, 38.36, -8.19, 21.32, 50.7, 67.67, 31.76, 15.85, -0.45, 5.88, 54.05, 45.16, 63.32, 13.64, 18.42, 35.3, 33, 37.73, 17.65, 33.6, 37.32, -46.13, -16.52, -36.62, 18.65, -21.62, 28.5, 63.79, -6.64, 59.65, 64.25, -1.95, 44.08, 65.97, 0.74, 51.7, -38.55, 27.27, 18.76, 24.56, -21.48, -7.3, 58.84, -28.65, 28.37, 13.83, -1.7, 28.66, -17.53, -3.33, -31.63, 21.44, 46.68, 61.47, 54.1, -34.2, 64.9, 36.29, 21.64, -34, -2.95, 68.22, 9.14, 68.82, 33.85, 64.92, 57.14, 11.14, 65.97, 8.01, -51.62, 8.46, -21.54, 7.3, 58.94, 53.88, -3.43, 40.93, 29.58, 52.27, 27.32, 39.29, -5.56, 68.31, -13.46, -5.12, 63.29]\n",
      "The temperature information received is: [75, 80.6, 77.65, 61.95, 48, 83.32, 78.4, 90.52, 79.3, 64.67, 74.05, 36.41, 62.01, 52.39, 41.94, 50.23, 72.41, 70.09, 51.8, 84.2, 79.18, 55.83, 21.2, 18.91, 80.17, 77, 79, 62.49, 57, 64.42, 55.99, 75.67, 83.71, 49.14, 62.01, 82.4, 76.06, 78.98, 87.8, 68.18, 81.05, 56.34, 44.6, 50, 21.52, 27.82, 84.87, 57.92, 51.93, 86.47, 94.84, 48, 73.51, 83.93, 87.8, 51.91, 57.2, 72.7, 42.8, 50, 57.2, 54.64, 78.69, 42.8, 78.04, 44.01, 83.14, 59, 55.81, 64.51, 57.16, 32.23, 44.96, 63.09, 93.2, 35.6, 23, 67.01, 56.71, 50.22, 59.68, 77.29, 83.52, 44.67, 31.93, 53.6, 29.25, 78.42, 33.8, 55.74, 86.5, 24.8, 35.47, 15.33, 66.11, 50.47, 65.86, 78.98, 86, 78.85, 49.84, 65.25, 84.2, 67.08, 89.51, 21.2, 20.82, 36.18, 45.34, 39.2, 48.2, 82.51, 76.1, 58.82, 69.49, 51.8, 62.33, 73.4, 67.44, 50.22, 56.08, 73.53, 78.4, 74.68, 71.91, 71.6, 14.49, 79.11, 33.84, 77.97, 62.6, 14.76, 67.93, 84.07, 26.26, 53.6, 82.9, 46.4, 32.88, 69.6, 57, 30.2, 66.2, 50, 55.6, 25.59, 80.55, 70.34, 82.63, 51.8, 82.18, 82.4, 30.65, 41, 77.7, 68.49, 91.02, 34, 41, 77.49, 87.93, 66.2, 81.88, 48.87, 73.92, 71.37, 41.4, 77.85, 32, 40.57, 82.4, 57.2, 75.87, 84.27, 77.4, 84.51, 86.92, 81.95, 75.92, 64.4, 76.78, 66.11, 49.96, 75.42, 13.68, 56.86, 55.31, 17.6, 19.27, 57.2, 75.2, 53.6, 62.55, 73, 39.99, 38.07, 80.6, 61.18, 74.97, 78.21, 77, 66.52, 65.97, 61.07, 64.92, 55, 34.34, 82.22, 75.27, 85.24, 52.95, 79.86, 55.78, 84.6, 65.77, 75.54, 31.01, 30.2, 58.08, 46.13, 78.8, 50.92, 64.02, 84.13, 65.55, 46.4, 72.81, 62.15, 61.45, 74.26, 73.4, 70.23, 17.6, 61.93, 66.49, 76.08, 78.8, 81.3, 91.45, 40.75, 65.86, 92.12, 87.6, 83.1, 55.08, 60.46, 55.24, 55.4, 89.82, 35.6, 80.6, 78.24, 82.42, 78.17, 71.33, 56.59, 61.07, 60.8, 47.41, 72.32, 57.2, 58.01, 85.21, 67.98, 27.72, 35.4, 64.4, 51.96, 52.57, 75.2, 48.2, 53.6, 86.2, 57.2, 55.65, 73.33, 54.46, 62.6, 45.46, 62.01, 81.77, 81.34, 48.2, 37.4, 45.55, 49.23, 39.34, 82.4, 43.88, 73.67, 32.5, 74.01, 16.36, 63.75, 43.9, 53.51, 39.2, 64.4, 86, 74.21, 55.78, 66.7, 57.2, 66.2, 69.03, 32, 29.39, 79.03, 75.96, 57.07, 61.77, 32.81, 72.21, 46.4, 26.71, 80.74, 53.53, 81.75, 91.4, 74.41, 55.4, 83.7, 26.91, 82.08, 81.97, 86, 76.28, 71.76, 55.4, 73.4, 51.3, 39.2, 72.21, 35.6, 69.67, 70.03, 78.8, 53.4, 62.24, 67.14, 67.3, 66.33, 32, 69.55, 75.72, 59.14, 79.77, 70.11, 59.99, 61.92, 82.4, 46.27, 54.72, 91.4, 60.91, 60.06, 39.2, 48, 26.6, 66.09, 74.95, 62.6, 53.65, 81.68, 79.27, 64.4, 44.6, 61.02, 73.4, 72.59, 64.4, 39.18, 42.04, 80.6, 59, 73.56, 80.6, 73.4, 52.34, 59, 75.67, 72.41, 21.09, 69.33, 61.59, 70.81, 73.4, 70.86, 75.58, 74.88, 25.34, 80.6, 64.4, 52.59, 62.01, 80.01, 84.2, 82.4, 69.13, 86, 78.71, 76.26, 51.31, 77.25, 82.76, 62.6, 81.27, 65.3, 66.2, 53.87, 76.51, 77.04, 80.28, 82.22, 35.6, 42.87, 77.31, 57.78, 86.04, 33.8, 84.2, 39, 33.8, 25.79, 92.48, 51.3, 77, 19.4, 21.67, 59, 60.96, 31.26, 59, 48.56, 44.02, 16.92, 66.76, 60.31, 63, 59.63, 80.49, 49.53, 90.18, 66.2, 57.2, 79.72, 53.6, 36.57, 60.64, 25.12, 56.43, 63.46, 58.53, 81.79, 70.77, 78.85, 80.6, 76.66, 41, 78.3, 75.2, 59.86, 33.17, 75.92, 87.13, 78.62, 62.6, 44.2, 73.08, 59, 63.45, 44.35, 95, 49.21, 12.2, 59, 72.57, 25.95, 66.7, 78.6, 51.73, 75, 51.12, 80.6, 79.3, 55.4, 40.17, 61.2, 86, 78.22, 60.26, 34.34, 54.21, 29.39, 84.52, 80.65, 56.73, 66.25, 62.6, 75.2, 71.6, 62.01, 55.87, 83.48, 55.4, 80.06, 84.2, 66.2, 29.53, 73.8, 37.24, 37.72, 72.07, 53.46, 24.8, 68.45, 48, 55, 77, 82.35, 77.04, 74.93, 69.4, 24.84, 61.27, 70.72, 81.84, 71.6, 68, 87.8, 86, 65.34, 80.22, 57.29, 28.45, 37.99, 56.14, 26.08, 56.52, 79.38, 57.88, 71.01, 32, 80.53, 30.2, 73.92, 25.05, 46.22, 81.73, 21.42, 79, 50, 72.3, 62.6, 74.03, 35.46, 44.65, 78.98, 58.66, 70.5, 52.68, 57.2, 50.32, 76.71, 32.05, 62.37, 76.1, 37.4]\n",
      "The humidity information received is: [48, 74, 74, 62, 76, 75, 94, 9, 82, 70, 81, 80, 33, 100, 83, 82, 69, 60, 93, 79, 85, 96, 92, 93, 82, 94, 78, 78, 92, 37, 75, 65, 75, 87, 90, 65, 61, 78, 70, 71, 80, 87, 70, 46, 97, 93, 76, 67, 71, 70, 12, 97, 33, 54, 11, 40, 93, 36, 75, 34, 87, 91, 64, 81, 87, 65, 80, 30, 66, 42, 61, 96, 88, 22, 17, 87, 79, 60, 51, 100, 44, 62, 80, 84, 94, 87, 94, 89, 86, 81, 56, 73, 83, 96, 40, 72, 54, 57, 70, 88, 74, 63, 70, 53, 11, 79, 90, 64, 81, 78, 81, 79, 84, 13, 83, 53, 78, 23, 48, 42, 55, 73, 94, 94, 90, 32, 97, 74, 90, 78, 88, 90, 55, 12, 92, 46, 81, 61, 94, 34, 52, 74, 82, 29, 85, 95, 83, 77, 73, 66, 66, 94, 93, 93, 83, 74, 32, 89, 56, 13, 26, 82, 83, 27, 44, 63, 65, 53, 94, 42, 78, 71, 90, 40, 73, 77, 69, 79, 72, 77, 81, 77, 76, 35, 95, 41, 91, 72, 95, 87, 73, 58, 25, 97, 93, 64, 36, 48, 77, 80, 94, 68, 51, 66, 72, 64, 67, 80, 88, 73, 92, 78, 92, 78, 49, 85, 98, 92, 51, 81, 94, 93, 65, 73, 72, 93, 68, 77, 59, 82, 73, 87, 72, 73, 57, 57, 94, 48, 16, 82, 59, 7, 64, 76, 66, 67, 41, 47, 27, 85, 88, 79, 80, 87, 83, 87, 91, 71, 31, 76, 54, 56, 70, 68, 93, 84, 68, 19, 27, 94, 24, 46, 12, 93, 62, 83, 49, 77, 72, 40, 79, 87, 66, 93, 93, 85, 46, 83, 39, 73, 85, 98, 90, 51, 39, 38, 55, 31, 79, 81, 82, 58, 58, 77, 73, 89, 90, 88, 90, 82, 77, 79, 11, 65, 95, 78, 49, 78, 52, 53, 66, 76, 96, 18, 77, 70, 65, 71, 71, 83, 91, 86, 60, 80, 66, 63, 50, 23, 58, 42, 64, 32, 95, 62, 26, 50, 85, 78, 65, 39, 78, 72, 83, 26, 62, 78, 79, 45, 79, 72, 86, 25, 80, 81, 84, 88, 100, 55, 43, 69, 93, 93, 50, 57, 93, 75, 44, 12, 70, 84, 91, 79, 85, 85, 69, 72, 83, 78, 47, 44, 98, 78, 93, 52, 47, 65, 89, 74, 28, 35, 82, 80, 53, 22, 79, 82, 87, 63, 72, 92, 81, 94, 84, 74, 80, 68, 93, 93, 36, 100, 74, 74, 59, 79, 36, 74, 100, 67, 98, 30, 37, 93, 38, 61, 72, 91, 32, 74, 1, 23, 71, 76, 54, 63, 67, 82, 50, 67, 87, 98, 93, 59, 38, 84, 70, 83, 88, 81, 93, 75, 73, 57, 89, 47, 19, 86, 93, 70, 77, 38, 68, 95, 24, 61, 85, 94, 83, 90, 25, 90, 30, 32, 54, 88, 45, 62, 72, 82, 70, 73, 59, 56, 68, 93, 27, 84, 71, 36, 88, 94, 35, 93, 76, 73, 87, 73, 58, 82, 98, 89, 86, 80, 85, 50, 68, 72, 84, 85, 38, 78, 57, 51, 78, 91, 48, 83, 79, 88, 72, 66, 62, 76, 58, 31, 89, 87, 100, 96, 82, 88, 56, 85, 91, 86, 92, 53, 96, 81, 77, 97, 87, 81, 60, 77, 85, 93, 88, 88, 77, 47, 75, 43, 48, 64, 98, 56, 88, 93]\n",
      "The cloudiness percentage is: [0, 20, 68, 27, 100, 0, 20, 1, 100, 82, 98, 86, 51, 39, 37, 93, 0, 54, 53, 90, 97, 94, 0, 64, 0, 40, 81, 41, 59, 20, 96, 90, 98, 90, 63, 90, 40, 20, 75, 2, 61, 40, 40, 90, 100, 5, 12, 100, 40, 20, 86, 100, 1, 54, 3, 36, 36, 26, 100, 1, 4, 100, 23, 7, 58, 62, 27, 40, 100, 90, 95, 60, 94, 28, 40, 90, 40, 20, 45, 90, 0, 0, 74, 46, 98, 40, 4, 97, 90, 99, 0, 75, 25, 100, 1, 100, 98, 40, 40, 99, 100, 2, 75, 69, 1, 90, 95, 53, 20, 75, 80, 95, 77, 0, 10, 0, 48, 36, 54, 72, 100, 20, 20, 99, 0, 0, 87, 75, 50, 33, 75, 47, 1, 0, 2, 75, 94, 75, 74, 9, 56, 0, 40, 75, 49, 99, 100, 0, 12, 90, 61, 20, 100, 90, 100, 0, 20, 100, 40, 1, 0, 40, 40, 40, 0, 8, 0, 1, 90, 99, 75, 0, 98, 62, 21, 58, 88, 18, 0, 68, 0, 20, 59, 1, 90, 20, 25, 75, 100, 0, 20, 90, 59, 59, 100, 1, 33, 0, 0, 67, 75, 9, 74, 14, 75, 69, 15, 100, 7, 10, 14, 40, 99, 20, 0, 74, 100, 100, 0, 75, 40, 90, 82, 100, 10, 75, 0, 40, 90, 12, 100, 70, 75, 9, 47, 0, 40, 1, 5, 16, 0, 1, 67, 52, 90, 94, 83, 0, 1, 90, 20, 85, 100, 100, 99, 90, 100, 55, 40, 17, 0, 99, 34, 58, 100, 58, 25, 33, 16, 75, 75, 40, 7, 11, 75, 100, 12, 6, 40, 93, 70, 95, 0, 90, 92, 37, 3, 75, 100, 20, 100, 100, 98, 37, 100, 28, 20, 0, 1, 0, 75, 1, 20, 40, 0, 0, 0, 87, 65, 98, 90, 0, 0, 34, 45, 20, 46, 100, 75, 31, 90, 98, 2, 1, 5, 75, 13, 47, 75, 0, 59, 90, 5, 6, 0, 0, 2, 70, 0, 1, 1, 1, 40, 86, 0, 18, 36, 63, 0, 16, 75, 33, 90, 1, 76, 74, 73, 100, 3, 75, 26, 48, 79, 48, 100, 51, 90, 90, 9, 32, 56, 100, 87, 0, 0, 96, 40, 1, 67, 84, 100, 30, 100, 65, 98, 31, 20, 31, 40, 0, 100, 5, 75, 54, 100, 0, 75, 20, 1, 20, 28, 96, 100, 74, 78, 75, 19, 1, 88, 15, 43, 87, 85, 40, 75, 12, 40, 91, 45, 90, 20, 53, 76, 100, 61, 100, 40, 13, 100, 75, 8, 27, 93, 93, 85, 91, 0, 100, 88, 100, 89, 63, 96, 1, 0, 5, 75, 45, 100, 100, 75, 3, 59, 100, 70, 29, 75, 0, 90, 100, 20, 0, 91, 1, 1, 100, 67, 100, 31, 85, 42, 55, 11, 21, 40, 0, 95, 15, 87, 99, 0, 77, 84, 20, 40, 90, 56, 0, 5, 65, 98, 0, 0, 92, 96, 8, 1, 49, 75, 75, 56, 71, 100, 11, 90, 43, 45, 75, 100, 37, 45, 94, 100, 1, 71, 74, 58, 20, 0, 20, 1, 6, 24, 100, 0, 75, 90, 40, 90, 34, 20, 0, 20, 100, 100, 77, 90, 99, 90, 0, 49, 98, 20, 97, 99, 1, 88, 75, 79, 49, 12, 94, 25, 75, 88, 17, 35, 89, 70, 0, 19, 41, 77, 21, 100, 11, 56, 100]\n"
     ]
    },
    {
     "name": "stdout",
     "output_type": "stream",
     "text": [
      "The wind speed received is: [6.33, 10.29, 4, 3.62, 17, 10.42, 3.36, 14.99, 17.78, 15.79, 1.63, 4.85, 3.29, 1.12, 8.41, 5.01, 4.56, 2.48, 3.36, 8.05, 11.03, 6.24, 3.4, 5.75, 13.4, 2.24, 7, 29.37, 2.13, 6.93, 13, 9.17, 2.82, 9.17, 3, 17.22, 28.86, 12.75, 8.05, 11.52, 16.26, 1.12, 14.99, 11.41, 6.44, 7, 11.54, 15.61, 26.4, 4.7, 17.49, 3, 4.7, 2.3, 20.89, 10.42, 3.36, 13.2, 12.75, 9.17, 8.05, 1.9, 2.93, 11.18, 2.57, 18.01, 12.59, 8.05, 7.16, 4.32, 1.01, 12.88, 4.45, 10.67, 16.11, 17.22, 4.7, 4.7, 25.01, 9.17, 5.14, 6.6, 19.89, 1.99, 5.21, 17.22, 3.4, 8.79, 10.29, 15.88, 9.51, 8.05, 11.95, 9.75, 10.29, 3.11, 11.39, 9.17, 8.05, 9.13, 15.99, 0.96, 12.75, 8.01, 11.41, 8.05, 2.3, 6.71, 3.78, 10.29, 14.99, 15.32, 3.49, 2.08, 6.44, 10.29, 30.02, 12.75, 3.58, 4.09, 4.36, 9.17, 3.36, 2.04, 6.49, 12.75, 10.33, 18.34, 7, 2.68, 21.92, 3.24, 0.2, 4.43, 12.08, 9.17, 10.6, 6.93, 13.27, 14.99, 20, 4.7, 4.7, 8.05, 9.98, 9.53, 1.45, 4.7, 8.86, 20.8, 8.21, 1.63, 7.2, 3.36, 8.43, 4.07, 16.11, 15.39, 5.82, 1.59, 16.22, 3.36, 4.7, 13.87, 5.61, 1.3, 6.73, 9.17, 8.05, 6.46, 9.17, 2.24, 1.83, 14.45, 11.36, 6.82, 8.7, 17.6, 11.1, 4.7, 3.27, 21.92, 4.7, 8.01, 6.76, 11.41, 8.3, 8.95, 8.41, 3.36, 9.17, 25.28, 2.01, 3.11, 6.29, 17.22, 5.82, 17.22, 1.77, 11.52, 2.24, 1.21, 10.04, 4.16, 3.76, 1.99, 1.99, 3.33, 2.24, 12.66, 7.2, 11.41, 3.33, 10.89, 16.35, 2.04, 29.06, 11.41, 7.74, 10.29, 2.24, 5.82, 10.54, 3.38, 2.1, 5.82, 1.14, 2.24, 8.05, 5.95, 6.93, 1.32, 8.95, 9.04, 3.69, 9.84, 2.24, 11.41, 14.99, 10.92, 2.01, 18.34, 3.11, 10.25, 10.29, 2.68, 25.21, 9.17, 16.11, 8.05, 4.7, 2.82, 11.03, 5.55, 3.42, 11.41, 1.01, 20.47, 14.99, 12.28, 4.7, 1.12, 9.69, 3.36, 9.78, 3.56, 2.24, 5.97, 4.09, 3.36, 9.17, 6.93, 11.97, 8.05, 8.05, 10.92, 3.56, 12.75, 9.24, 5.99, 2.51, 5.95, 0.54, 6.93, 14.99, 8.19, 1.25, 5.82, 12.91, 9.17, 5.37, 3.13, 1.88, 3.36, 16.55, 9.13, 8.05, 23.04, 8.25, 7.7, 11.41, 11.41, 11.41, 13.87, 16.11, 4.94, 14.43, 7.54, 0.98, 8.66, 10.29, 7.81, 17.92, 13.42, 2.8, 5.82, 2.73, 6.53, 2.24, 9.17, 9.17, 8.77, 2.17, 10.29, 15.88, 9.17, 0.74, 10.42, 11.41, 4.7, 5.06, 2.24, 2.93, 5.82, 4, 14.47, 6.93, 13.2, 10.11, 11.41, 1.83, 20.8, 5.82, 15.95, 3.98, 3.65, 4.14, 6.89, 2.24, 7.36, 3.36, 12.08, 11.48, 12.75, 2.75, 3.42, 10.29, 5.01, 2.24, 24.16, 4.68, 16.11, 5.41, 8.08, 2.95, 2.24, 5.82, 12.75, 17.22, 5.84, 13.87, 17.22, 5.21, 6.93, 4.7, 2.06, 10.29, 5.82, 14.45, 2.37, 2.68, 1.97, 8.95, 3.33, 5.35, 11.7, 14.99, 7.58, 16.11, 6.71, 7.58, 11.41, 8.05, 2.37, 3, 5.99, 9.17, 19.46, 10.29, 11.41, 2.15, 5.59, 7.65, 3.74, 11.74, 28.92, 8.72, 1.59, 3.36, 7.78, 2.42, 1.61, 9.91, 12.75, 11.41, 3.91, 1.41, 1.12, 5.01, 10.29, 5.82, 12.48, 4.7, 3.22, 5.7, 23.02, 1.12, 4.47, 6.93, 4.7, 6.26, 11.97, 5.82, 7.14, 6.2, 3.06, 4.18, 7.02, 11.01, 10.85, 4.54, 4.7, 1.86, 3.36, 4.7, 10.36, 9.17, 23.4, 5.01, 7.72, 6.93, 25.28, 25.28, 11.99, 4.63, 8.25, 6.93, 17.2, 3.36, 6.46, 9.17, 8.12, 6.62, 8.05, 11.41, 3.29, 6.93, 13.24, 3.11, 5.82, 14.99, 8.01, 2.24, 3.13, 14.99, 10.49, 3.91, 13.11, 18.07, 8.99, 3.44, 11.72, 4.12, 4.7, 24.16, 12.75, 16.13, 12.26, 3.47, 11.39, 1.05, 16.73, 7.18, 5.37, 3.31, 1.01, 8.86, 1.77, 21.92, 3.36, 2.24, 1.99, 2.68, 8.84, 5.82, 4.21, 10.29, 16.11, 8.14, 2.01, 5.32, 7.74, 2.71, 5.82, 2.24, 2.3, 7.74, 3, 2.24, 9.17, 13.87, 1.95, 2.89, 11.63, 17.22, 11.41, 4.7, 2.24, 8.05, 3.36, 3.36, 3.6, 17.22, 21.21, 10.8, 1.01, 11.41, 5.48, 9.17, 11.97, 5.32, 1.16, 2.24, 3.06, 11.41, 6.93, 9.37, 10.29, 10.25, 9.51, 5.99, 13.87, 3.74, 6.93, 2.37, 4.12, 11.74, 4.41, 1.99, 2.93, 7.02, 2.06, 1.45, 14.92, 16.37, 3.65, 1.48, 14.99]\n"
     ]
    }
   ],
   "source": [
    "#cities = [\"Paris\", \"London\", \"Oslo\", \"Beijing\"]\n",
    "\n",
    "# set up lists to hold reponse info\n",
    "lat = []\n",
    "long = []\n",
    "temp = []\n",
    "hum = []\n",
    "cld = []\n",
    "wind = []\n",
    "country = []\n",
    "# empty list \n",
    "final_cities = []\n",
    "\n",
    "\n",
    "# Loop through the list of cities and perform a request for data on each\n",
    "for city in cities:\n",
    "    print(f\"Processed {city}\")\n",
    "    response = requests.get(query_url + city).json()\n",
    "    try:\n",
    "        lat.append(response['coord']['lat']) \n",
    "        long.append(response['coord']['lon'])\n",
    "        temp.append(response['main']['temp'])\n",
    "        hum.append(response['main']['humidity'])\n",
    "        cld.append(response['clouds']['all'])\n",
    "        wind.append(response['wind']['speed'])\n",
    "        country.append(response['sys']['country'])\n",
    "        final_cities.append(city)\n",
    "    except KeyError:\n",
    "        print(\"City Not Found\")\n",
    "\n",
    "print(f\"The latitude information received is: {lat}\")\n",
    "print(f\"The temperature information received is: {temp}\")\n",
    "print(f\"The humidity information received is: {hum}\")\n",
    "print(f\"The cloudiness percentage is: {cld}\")\n",
    "print(f\"The wind speed received is: {wind}\")\n",
    "        "
   ]
  },
  {
   "cell_type": "code",
   "execution_count": 53,
   "metadata": {},
   "outputs": [
    {
     "data": {
      "text/plain": [
       "568"
      ]
     },
     "execution_count": 53,
     "metadata": {},
     "output_type": "execute_result"
    }
   ],
   "source": [
    "len(final_cities)"
   ]
  },
  {
   "cell_type": "markdown",
   "metadata": {},
   "source": [
    "### Convert Raw Data to DataFrame\n",
    "* Export the city data into a .csv.\n",
    "* Display the DataFrame"
   ]
  },
  {
   "cell_type": "code",
   "execution_count": 54,
   "metadata": {},
   "outputs": [
    {
     "data": {
      "text/html": [
       "<div>\n",
       "<style scoped>\n",
       "    .dataframe tbody tr th:only-of-type {\n",
       "        vertical-align: middle;\n",
       "    }\n",
       "\n",
       "    .dataframe tbody tr th {\n",
       "        vertical-align: top;\n",
       "    }\n",
       "\n",
       "    .dataframe thead th {\n",
       "        text-align: right;\n",
       "    }\n",
       "</style>\n",
       "<table border=\"1\" class=\"dataframe\">\n",
       "  <thead>\n",
       "    <tr style=\"text-align: right;\">\n",
       "      <th></th>\n",
       "      <th>city</th>\n",
       "      <th>lat</th>\n",
       "      <th>long</th>\n",
       "      <th>temp</th>\n",
       "      <th>hum</th>\n",
       "      <th>cld</th>\n",
       "      <th>wind</th>\n",
       "      <th>country</th>\n",
       "    </tr>\n",
       "  </thead>\n",
       "  <tbody>\n",
       "    <tr>\n",
       "      <th>0</th>\n",
       "      <td>umm lajj</td>\n",
       "      <td>25.02</td>\n",
       "      <td>37.27</td>\n",
       "      <td>75.00</td>\n",
       "      <td>48</td>\n",
       "      <td>0</td>\n",
       "      <td>6.33</td>\n",
       "      <td>SA</td>\n",
       "    </tr>\n",
       "    <tr>\n",
       "      <th>1</th>\n",
       "      <td>vaini</td>\n",
       "      <td>-21.20</td>\n",
       "      <td>-175.20</td>\n",
       "      <td>80.60</td>\n",
       "      <td>74</td>\n",
       "      <td>20</td>\n",
       "      <td>10.29</td>\n",
       "      <td>TO</td>\n",
       "    </tr>\n",
       "    <tr>\n",
       "      <th>2</th>\n",
       "      <td>victoria</td>\n",
       "      <td>22.29</td>\n",
       "      <td>114.16</td>\n",
       "      <td>77.65</td>\n",
       "      <td>74</td>\n",
       "      <td>68</td>\n",
       "      <td>4.00</td>\n",
       "      <td>HK</td>\n",
       "    </tr>\n",
       "    <tr>\n",
       "      <th>3</th>\n",
       "      <td>oranjemund</td>\n",
       "      <td>-28.55</td>\n",
       "      <td>16.43</td>\n",
       "      <td>61.95</td>\n",
       "      <td>62</td>\n",
       "      <td>27</td>\n",
       "      <td>3.62</td>\n",
       "      <td>NA</td>\n",
       "    </tr>\n",
       "    <tr>\n",
       "      <th>4</th>\n",
       "      <td>punta arenas</td>\n",
       "      <td>-53.15</td>\n",
       "      <td>-70.92</td>\n",
       "      <td>48.00</td>\n",
       "      <td>76</td>\n",
       "      <td>100</td>\n",
       "      <td>17.00</td>\n",
       "      <td>CL</td>\n",
       "    </tr>\n",
       "  </tbody>\n",
       "</table>\n",
       "</div>"
      ],
      "text/plain": [
       "           city    lat    long   temp  hum  cld   wind country\n",
       "0      umm lajj  25.02   37.27  75.00   48    0   6.33      SA\n",
       "1         vaini -21.20 -175.20  80.60   74   20  10.29      TO\n",
       "2      victoria  22.29  114.16  77.65   74   68   4.00      HK\n",
       "3    oranjemund -28.55   16.43  61.95   62   27   3.62      NA\n",
       "4  punta arenas -53.15  -70.92  48.00   76  100  17.00      CL"
      ]
     },
     "execution_count": 54,
     "metadata": {},
     "output_type": "execute_result"
    }
   ],
   "source": [
    "weather_dict = {\n",
    "    \"city\": final_cities,\n",
    "    \"lat\": lat,\n",
    "    \"long\": long,\n",
    "    \"temp\": temp,\n",
    "    \"hum\": hum,\n",
    "    \"cld\": cld,\n",
    "    \"wind\": wind,\n",
    "    \"country\": country}\n",
    "weather_data = pd.DataFrame(weather_dict)\n",
    "weather_data.head()"
   ]
  },
  {
   "cell_type": "code",
   "execution_count": 55,
   "metadata": {},
   "outputs": [],
   "source": [
    "weather_data.to_csv(output_data_file, index=False)"
   ]
  },
  {
   "cell_type": "code",
   "execution_count": 56,
   "metadata": {},
   "outputs": [
    {
     "data": {
      "text/html": [
       "<div>\n",
       "<style scoped>\n",
       "    .dataframe tbody tr th:only-of-type {\n",
       "        vertical-align: middle;\n",
       "    }\n",
       "\n",
       "    .dataframe tbody tr th {\n",
       "        vertical-align: top;\n",
       "    }\n",
       "\n",
       "    .dataframe thead th {\n",
       "        text-align: right;\n",
       "    }\n",
       "</style>\n",
       "<table border=\"1\" class=\"dataframe\">\n",
       "  <thead>\n",
       "    <tr style=\"text-align: right;\">\n",
       "      <th></th>\n",
       "      <th>lat</th>\n",
       "      <th>long</th>\n",
       "      <th>temp</th>\n",
       "      <th>hum</th>\n",
       "      <th>cld</th>\n",
       "      <th>wind</th>\n",
       "    </tr>\n",
       "  </thead>\n",
       "  <tbody>\n",
       "    <tr>\n",
       "      <th>count</th>\n",
       "      <td>568.000000</td>\n",
       "      <td>568.000000</td>\n",
       "      <td>568.000000</td>\n",
       "      <td>568.000000</td>\n",
       "      <td>568.000000</td>\n",
       "      <td>568.000000</td>\n",
       "    </tr>\n",
       "    <tr>\n",
       "      <th>mean</th>\n",
       "      <td>19.706620</td>\n",
       "      <td>17.253327</td>\n",
       "      <td>61.613785</td>\n",
       "      <td>69.512324</td>\n",
       "      <td>50.764085</td>\n",
       "      <td>8.258046</td>\n",
       "    </tr>\n",
       "    <tr>\n",
       "      <th>std</th>\n",
       "      <td>33.595544</td>\n",
       "      <td>92.906255</td>\n",
       "      <td>18.575001</td>\n",
       "      <td>21.466676</td>\n",
       "      <td>36.899988</td>\n",
       "      <td>5.691979</td>\n",
       "    </tr>\n",
       "    <tr>\n",
       "      <th>min</th>\n",
       "      <td>-54.800000</td>\n",
       "      <td>-175.200000</td>\n",
       "      <td>12.200000</td>\n",
       "      <td>1.000000</td>\n",
       "      <td>0.000000</td>\n",
       "      <td>0.200000</td>\n",
       "    </tr>\n",
       "    <tr>\n",
       "      <th>25%</th>\n",
       "      <td>-7.595000</td>\n",
       "      <td>-67.437500</td>\n",
       "      <td>50.220000</td>\n",
       "      <td>57.000000</td>\n",
       "      <td>14.750000</td>\n",
       "      <td>3.420000</td>\n",
       "    </tr>\n",
       "    <tr>\n",
       "      <th>50%</th>\n",
       "      <td>22.905000</td>\n",
       "      <td>19.635000</td>\n",
       "      <td>63.885000</td>\n",
       "      <td>75.000000</td>\n",
       "      <td>51.000000</td>\n",
       "      <td>7.150000</td>\n",
       "    </tr>\n",
       "    <tr>\n",
       "      <th>75%</th>\n",
       "      <td>47.717500</td>\n",
       "      <td>104.120000</td>\n",
       "      <td>77.040000</td>\n",
       "      <td>86.000000</td>\n",
       "      <td>90.000000</td>\n",
       "      <td>11.410000</td>\n",
       "    </tr>\n",
       "    <tr>\n",
       "      <th>max</th>\n",
       "      <td>78.220000</td>\n",
       "      <td>179.320000</td>\n",
       "      <td>95.000000</td>\n",
       "      <td>100.000000</td>\n",
       "      <td>100.000000</td>\n",
       "      <td>30.020000</td>\n",
       "    </tr>\n",
       "  </tbody>\n",
       "</table>\n",
       "</div>"
      ],
      "text/plain": [
       "              lat        long        temp         hum         cld        wind\n",
       "count  568.000000  568.000000  568.000000  568.000000  568.000000  568.000000\n",
       "mean    19.706620   17.253327   61.613785   69.512324   50.764085    8.258046\n",
       "std     33.595544   92.906255   18.575001   21.466676   36.899988    5.691979\n",
       "min    -54.800000 -175.200000   12.200000    1.000000    0.000000    0.200000\n",
       "25%     -7.595000  -67.437500   50.220000   57.000000   14.750000    3.420000\n",
       "50%     22.905000   19.635000   63.885000   75.000000   51.000000    7.150000\n",
       "75%     47.717500  104.120000   77.040000   86.000000   90.000000   11.410000\n",
       "max     78.220000  179.320000   95.000000  100.000000  100.000000   30.020000"
      ]
     },
     "execution_count": 56,
     "metadata": {},
     "output_type": "execute_result"
    }
   ],
   "source": [
    "weather_data.describe()"
   ]
  },
  {
   "cell_type": "markdown",
   "metadata": {},
   "source": [
    "## Inspect the data and remove the cities where the humidity > 100%.\n",
    "----\n",
    "Skip this step if there are no cities that have humidity > 100%. "
   ]
  },
  {
   "cell_type": "code",
   "execution_count": 57,
   "metadata": {},
   "outputs": [
    {
     "data": {
      "text/html": [
       "<div>\n",
       "<style scoped>\n",
       "    .dataframe tbody tr th:only-of-type {\n",
       "        vertical-align: middle;\n",
       "    }\n",
       "\n",
       "    .dataframe tbody tr th {\n",
       "        vertical-align: top;\n",
       "    }\n",
       "\n",
       "    .dataframe thead th {\n",
       "        text-align: right;\n",
       "    }\n",
       "</style>\n",
       "<table border=\"1\" class=\"dataframe\">\n",
       "  <thead>\n",
       "    <tr style=\"text-align: right;\">\n",
       "      <th></th>\n",
       "      <th>city</th>\n",
       "      <th>lat</th>\n",
       "      <th>long</th>\n",
       "      <th>temp</th>\n",
       "      <th>hum</th>\n",
       "      <th>cld</th>\n",
       "      <th>wind</th>\n",
       "      <th>country</th>\n",
       "    </tr>\n",
       "  </thead>\n",
       "  <tbody>\n",
       "  </tbody>\n",
       "</table>\n",
       "</div>"
      ],
      "text/plain": [
       "Empty DataFrame\n",
       "Columns: [city, lat, long, temp, hum, cld, wind, country]\n",
       "Index: []"
      ]
     },
     "execution_count": 57,
     "metadata": {},
     "output_type": "execute_result"
    }
   ],
   "source": [
    "mask = weather_data.hum > 100\n",
    "weather_data_sub = weather_data.loc[mask].reset_index(drop=True)\n",
    "\n",
    "weather_data_sub.head()"
   ]
  },
  {
   "cell_type": "code",
   "execution_count": 58,
   "metadata": {},
   "outputs": [],
   "source": [
    "#  Get the indices of cities that have humidity over 100%.\n"
   ]
  },
  {
   "cell_type": "code",
   "execution_count": 59,
   "metadata": {},
   "outputs": [],
   "source": [
    "# Make a new DataFrame equal to the city data to drop all humidity outliers by index.\n",
    "# Passing \"inplace=False\" will make a copy of the city_data DataFrame, which we call \"clean_city_data\".\n"
   ]
  },
  {
   "cell_type": "code",
   "execution_count": 60,
   "metadata": {},
   "outputs": [],
   "source": [
    "# Extract relevant fields from the data frame\n",
    "\n",
    "\n",
    "# Export the City_Data into a csv\n"
   ]
  },
  {
   "cell_type": "markdown",
   "metadata": {},
   "source": [
    "## Plotting the Data\n",
    "* Use proper labeling of the plots using plot titles (including date of analysis) and axes labels.\n",
    "* Save the plotted figures as .pngs."
   ]
  },
  {
   "cell_type": "code",
   "execution_count": 61,
   "metadata": {},
   "outputs": [
    {
     "data": {
      "text/html": [
       "<div>\n",
       "<style scoped>\n",
       "    .dataframe tbody tr th:only-of-type {\n",
       "        vertical-align: middle;\n",
       "    }\n",
       "\n",
       "    .dataframe tbody tr th {\n",
       "        vertical-align: top;\n",
       "    }\n",
       "\n",
       "    .dataframe thead th {\n",
       "        text-align: right;\n",
       "    }\n",
       "</style>\n",
       "<table border=\"1\" class=\"dataframe\">\n",
       "  <thead>\n",
       "    <tr style=\"text-align: right;\">\n",
       "      <th></th>\n",
       "      <th>city</th>\n",
       "      <th>lat</th>\n",
       "      <th>long</th>\n",
       "      <th>temp</th>\n",
       "      <th>hum</th>\n",
       "      <th>cld</th>\n",
       "      <th>wind</th>\n",
       "      <th>country</th>\n",
       "    </tr>\n",
       "  </thead>\n",
       "  <tbody>\n",
       "    <tr>\n",
       "      <th>0</th>\n",
       "      <td>umm lajj</td>\n",
       "      <td>25.02</td>\n",
       "      <td>37.27</td>\n",
       "      <td>75.00</td>\n",
       "      <td>48</td>\n",
       "      <td>0</td>\n",
       "      <td>6.33</td>\n",
       "      <td>SA</td>\n",
       "    </tr>\n",
       "    <tr>\n",
       "      <th>1</th>\n",
       "      <td>vaini</td>\n",
       "      <td>-21.20</td>\n",
       "      <td>-175.20</td>\n",
       "      <td>80.60</td>\n",
       "      <td>74</td>\n",
       "      <td>20</td>\n",
       "      <td>10.29</td>\n",
       "      <td>TO</td>\n",
       "    </tr>\n",
       "    <tr>\n",
       "      <th>2</th>\n",
       "      <td>victoria</td>\n",
       "      <td>22.29</td>\n",
       "      <td>114.16</td>\n",
       "      <td>77.65</td>\n",
       "      <td>74</td>\n",
       "      <td>68</td>\n",
       "      <td>4.00</td>\n",
       "      <td>HK</td>\n",
       "    </tr>\n",
       "    <tr>\n",
       "      <th>3</th>\n",
       "      <td>oranjemund</td>\n",
       "      <td>-28.55</td>\n",
       "      <td>16.43</td>\n",
       "      <td>61.95</td>\n",
       "      <td>62</td>\n",
       "      <td>27</td>\n",
       "      <td>3.62</td>\n",
       "      <td>NA</td>\n",
       "    </tr>\n",
       "    <tr>\n",
       "      <th>4</th>\n",
       "      <td>punta arenas</td>\n",
       "      <td>-53.15</td>\n",
       "      <td>-70.92</td>\n",
       "      <td>48.00</td>\n",
       "      <td>76</td>\n",
       "      <td>100</td>\n",
       "      <td>17.00</td>\n",
       "      <td>CL</td>\n",
       "    </tr>\n",
       "  </tbody>\n",
       "</table>\n",
       "</div>"
      ],
      "text/plain": [
       "           city    lat    long   temp  hum  cld   wind country\n",
       "0      umm lajj  25.02   37.27  75.00   48    0   6.33      SA\n",
       "1         vaini -21.20 -175.20  80.60   74   20  10.29      TO\n",
       "2      victoria  22.29  114.16  77.65   74   68   4.00      HK\n",
       "3    oranjemund -28.55   16.43  61.95   62   27   3.62      NA\n",
       "4  punta arenas -53.15  -70.92  48.00   76  100  17.00      CL"
      ]
     },
     "execution_count": 61,
     "metadata": {},
     "output_type": "execute_result"
    }
   ],
   "source": [
    "weather_data.head()"
   ]
  },
  {
   "cell_type": "markdown",
   "metadata": {},
   "source": [
    "## Latitude vs. Temperature Plot"
   ]
  },
  {
   "cell_type": "code",
   "execution_count": 62,
   "metadata": {},
   "outputs": [
    {
     "data": {
      "image/png": "[encoded data removed]",
      "text/plain": [
       "<Figure size 432x288 with 1 Axes>"
      ]
     },
     "metadata": {
      "needs_background": "light"
     },
     "output_type": "display_data"
    }
   ],
   "source": [
    "plt.scatter(weather_data[\"lat\"], weather_data[\"temp\"], marker=\"o\", facecolors=\"red\", edgecolors=\"black\",\n",
    "            alpha=0.75)\n",
    "plt.title('City Latitude vs. Temperature')\n",
    "plt.xlabel('Latitude')\n",
    "plt.ylabel('Temperature')\n",
    "plt.show()"
   ]
  },
  {
   "cell_type": "markdown",
   "metadata": {},
   "source": [
    "## Latitude vs. Humidity Plot"
   ]
  },
  {
   "cell_type": "code",
   "execution_count": 63,
   "metadata": {},
   "outputs": [
    {
     "data": {
      "image/png": "[encoded data removed]",
      "text/plain": [
       "<Figure size 432x288 with 1 Axes>"
      ]
     },
     "metadata": {
      "needs_background": "light"
     },
     "output_type": "display_data"
    }
   ],
   "source": [
    "# copy paste change variables and labels\n",
    "plt.scatter(weather_data[\"lat\"], weather_data[\"hum\"], marker=\"o\", facecolors=\"red\", edgecolors=\"black\",\n",
    "            alpha=0.75)\n",
    "plt.title('City Latitude vs. Humidity')\n",
    "plt.xlabel('Latitude')\n",
    "plt.ylabel('Humidity')\n",
    "plt.show()"
   ]
  },
  {
   "cell_type": "markdown",
   "metadata": {},
   "source": [
    "## Latitude vs. Cloudiness Plot"
   ]
  },
  {
   "cell_type": "code",
   "execution_count": 64,
   "metadata": {},
   "outputs": [
    {
     "data": {
      "image/png": "[encoded data removed]",
      "text/plain": [
       "<Figure size 432x288 with 1 Axes>"
      ]
     },
     "metadata": {
      "needs_background": "light"
     },
     "output_type": "display_data"
    }
   ],
   "source": [
    "plt.scatter(weather_data[\"lat\"], weather_data[\"cld\"], marker=\"o\", facecolors=\"red\", edgecolors=\"black\",\n",
    "            alpha=0.75)\n",
    "plt.title('City Latitude vs. cld')\n",
    "plt.xlabel('Latitude')\n",
    "plt.ylabel('Cloudiness')\n",
    "plt.show()"
   ]
  },
  {
   "cell_type": "markdown",
   "metadata": {},
   "source": [
    "## Latitude vs. Wind Speed Plot"
   ]
  },
  {
   "cell_type": "code",
   "execution_count": 65,
   "metadata": {},
   "outputs": [
    {
     "data": {
      "image/png": "[encoded data removed]",
      "text/plain": [
       "<Figure size 432x288 with 1 Axes>"
      ]
     },
     "metadata": {
      "needs_background": "light"
     },
     "output_type": "display_data"
    }
   ],
   "source": [
    "plt.scatter(weather_data[\"lat\"], weather_data[\"wind\"], marker=\"o\", facecolors=\"red\", edgecolors=\"black\",\n",
    "            alpha=0.75)\n",
    "plt.title('City Latitude vs. Wind Speed')\n",
    "plt.xlabel('Latitude')\n",
    "plt.ylabel('Wind Speed')\n",
    "plt.show()"
   ]
  },
  {
   "cell_type": "markdown",
   "metadata": {},
   "source": [
    "## Linear Regression"
   ]
  },
  {
   "cell_type": "code",
   "execution_count": 66,
   "metadata": {},
   "outputs": [],
   "source": [
    "# OPTIONAL: Create a function to create Linear Regression plots"
   ]
  },
  {
   "cell_type": "code",
   "execution_count": 67,
   "metadata": {},
   "outputs": [],
   "source": [
    "# start coding "
   ]
  },
  {
   "cell_type": "code",
   "execution_count": 68,
   "metadata": {
    "scrolled": true
   },
   "outputs": [
    {
     "data": {
      "text/html": [
       "<div>\n",
       "<style scoped>\n",
       "    .dataframe tbody tr th:only-of-type {\n",
       "        vertical-align: middle;\n",
       "    }\n",
       "\n",
       "    .dataframe tbody tr th {\n",
       "        vertical-align: top;\n",
       "    }\n",
       "\n",
       "    .dataframe thead th {\n",
       "        text-align: right;\n",
       "    }\n",
       "</style>\n",
       "<table border=\"1\" class=\"dataframe\">\n",
       "  <thead>\n",
       "    <tr style=\"text-align: right;\">\n",
       "      <th></th>\n",
       "      <th>city</th>\n",
       "      <th>lat</th>\n",
       "      <th>long</th>\n",
       "      <th>temp</th>\n",
       "      <th>hum</th>\n",
       "      <th>cld</th>\n",
       "      <th>wind</th>\n",
       "      <th>country</th>\n",
       "    </tr>\n",
       "  </thead>\n",
       "  <tbody>\n",
       "    <tr>\n",
       "      <th>0</th>\n",
       "      <td>umm lajj</td>\n",
       "      <td>25.02</td>\n",
       "      <td>37.27</td>\n",
       "      <td>75.00</td>\n",
       "      <td>48</td>\n",
       "      <td>0</td>\n",
       "      <td>6.33</td>\n",
       "      <td>SA</td>\n",
       "    </tr>\n",
       "    <tr>\n",
       "      <th>1</th>\n",
       "      <td>victoria</td>\n",
       "      <td>22.29</td>\n",
       "      <td>114.16</td>\n",
       "      <td>77.65</td>\n",
       "      <td>74</td>\n",
       "      <td>68</td>\n",
       "      <td>4.00</td>\n",
       "      <td>HK</td>\n",
       "    </tr>\n",
       "    <tr>\n",
       "      <th>2</th>\n",
       "      <td>georgetown</td>\n",
       "      <td>5.41</td>\n",
       "      <td>100.34</td>\n",
       "      <td>78.40</td>\n",
       "      <td>94</td>\n",
       "      <td>20</td>\n",
       "      <td>3.36</td>\n",
       "      <td>MY</td>\n",
       "    </tr>\n",
       "    <tr>\n",
       "      <th>3</th>\n",
       "      <td>pueblo</td>\n",
       "      <td>38.25</td>\n",
       "      <td>-104.61</td>\n",
       "      <td>90.52</td>\n",
       "      <td>9</td>\n",
       "      <td>1</td>\n",
       "      <td>14.99</td>\n",
       "      <td>US</td>\n",
       "    </tr>\n",
       "    <tr>\n",
       "      <th>4</th>\n",
       "      <td>marsabit</td>\n",
       "      <td>2.33</td>\n",
       "      <td>37.99</td>\n",
       "      <td>64.67</td>\n",
       "      <td>70</td>\n",
       "      <td>82</td>\n",
       "      <td>15.79</td>\n",
       "      <td>KE</td>\n",
       "    </tr>\n",
       "  </tbody>\n",
       "</table>\n",
       "</div>"
      ],
      "text/plain": [
       "         city    lat    long   temp  hum  cld   wind country\n",
       "0    umm lajj  25.02   37.27  75.00   48    0   6.33      SA\n",
       "1    victoria  22.29  114.16  77.65   74   68   4.00      HK\n",
       "2  georgetown   5.41  100.34  78.40   94   20   3.36      MY\n",
       "3      pueblo  38.25 -104.61  90.52    9    1  14.99      US\n",
       "4    marsabit   2.33   37.99  64.67   70   82  15.79      KE"
      ]
     },
     "execution_count": 68,
     "metadata": {},
     "output_type": "execute_result"
    }
   ],
   "source": [
    "north_mask = weather_data.lat >= 0\n",
    "df_north = weather_data.loc[north_mask].reset_index(drop=True)\n",
    "df_north.head()"
   ]
  },
  {
   "cell_type": "code",
   "execution_count": 69,
   "metadata": {},
   "outputs": [
    {
     "data": {
      "text/html": [
       "<div>\n",
       "<style scoped>\n",
       "    .dataframe tbody tr th:only-of-type {\n",
       "        vertical-align: middle;\n",
       "    }\n",
       "\n",
       "    .dataframe tbody tr th {\n",
       "        vertical-align: top;\n",
       "    }\n",
       "\n",
       "    .dataframe thead th {\n",
       "        text-align: right;\n",
       "    }\n",
       "</style>\n",
       "<table border=\"1\" class=\"dataframe\">\n",
       "  <thead>\n",
       "    <tr style=\"text-align: right;\">\n",
       "      <th></th>\n",
       "      <th>city</th>\n",
       "      <th>lat</th>\n",
       "      <th>long</th>\n",
       "      <th>temp</th>\n",
       "      <th>hum</th>\n",
       "      <th>cld</th>\n",
       "      <th>wind</th>\n",
       "      <th>country</th>\n",
       "    </tr>\n",
       "  </thead>\n",
       "  <tbody>\n",
       "    <tr>\n",
       "      <th>0</th>\n",
       "      <td>vaini</td>\n",
       "      <td>-21.20</td>\n",
       "      <td>-175.20</td>\n",
       "      <td>80.60</td>\n",
       "      <td>74</td>\n",
       "      <td>20</td>\n",
       "      <td>10.29</td>\n",
       "      <td>TO</td>\n",
       "    </tr>\n",
       "    <tr>\n",
       "      <th>1</th>\n",
       "      <td>oranjemund</td>\n",
       "      <td>-28.55</td>\n",
       "      <td>16.43</td>\n",
       "      <td>61.95</td>\n",
       "      <td>62</td>\n",
       "      <td>27</td>\n",
       "      <td>3.62</td>\n",
       "      <td>NA</td>\n",
       "    </tr>\n",
       "    <tr>\n",
       "      <th>2</th>\n",
       "      <td>punta arenas</td>\n",
       "      <td>-53.15</td>\n",
       "      <td>-70.92</td>\n",
       "      <td>48.00</td>\n",
       "      <td>76</td>\n",
       "      <td>100</td>\n",
       "      <td>17.00</td>\n",
       "      <td>CL</td>\n",
       "    </tr>\n",
       "    <tr>\n",
       "      <th>3</th>\n",
       "      <td>fare</td>\n",
       "      <td>-16.70</td>\n",
       "      <td>-151.02</td>\n",
       "      <td>83.32</td>\n",
       "      <td>75</td>\n",
       "      <td>0</td>\n",
       "      <td>10.42</td>\n",
       "      <td>PF</td>\n",
       "    </tr>\n",
       "    <tr>\n",
       "      <th>4</th>\n",
       "      <td>rikitea</td>\n",
       "      <td>-23.12</td>\n",
       "      <td>-134.97</td>\n",
       "      <td>79.30</td>\n",
       "      <td>82</td>\n",
       "      <td>100</td>\n",
       "      <td>17.78</td>\n",
       "      <td>PF</td>\n",
       "    </tr>\n",
       "  </tbody>\n",
       "</table>\n",
       "</div>"
      ],
      "text/plain": [
       "           city    lat    long   temp  hum  cld   wind country\n",
       "0         vaini -21.20 -175.20  80.60   74   20  10.29      TO\n",
       "1    oranjemund -28.55   16.43  61.95   62   27   3.62      NA\n",
       "2  punta arenas -53.15  -70.92  48.00   76  100  17.00      CL\n",
       "3          fare -16.70 -151.02  83.32   75    0  10.42      PF\n",
       "4       rikitea -23.12 -134.97  79.30   82  100  17.78      PF"
      ]
     },
     "execution_count": 69,
     "metadata": {},
     "output_type": "execute_result"
    }
   ],
   "source": [
    "south_mask = weather_data.lat < 0\n",
    "df_south = weather_data.loc[south_mask].reset_index(drop=True)\n",
    "df_south.head()"
   ]
  },
  {
   "cell_type": "code",
   "execution_count": 70,
   "metadata": {},
   "outputs": [],
   "source": [
    "# Create Northern and Southern Hemisphere DataFrames"
   ]
  },
  {
   "cell_type": "markdown",
   "metadata": {},
   "source": [
    "####  Northern Hemisphere - Max Temp vs. Latitude Linear Regression"
   ]
  },
  {
   "cell_type": "code",
   "execution_count": 71,
   "metadata": {},
   "outputs": [
    {
     "name": "stdout",
     "output_type": "stream",
     "text": [
      "The r-squared is: 0.7962938522900714\n",
      "The p-value is: 9.715424155988947e-135\n"
     ]
    },
    {
     "data": {
      "image/png": "[encoded data removed]",
      "text/plain": [
       "<Figure size 432x288 with 1 Axes>"
      ]
     },
     "metadata": {
      "needs_background": "light"
     },
     "output_type": "display_data"
    },
    {
     "name": "stdout",
     "output_type": "stream",
     "text": [
      "y = -0.91x + 94.0\n"
     ]
    }
   ],
   "source": [
    "x_values = df_north[\"lat\"]\n",
    "y_values = df_north[\"temp\"]\n",
    "(slope, intercept, rvalue, pvalue, stderr) = linregress(x_values, y_values)\n",
    "regress_values = x_values * slope + intercept\n",
    "line_eq = \"y = \" + str(round(slope,2)) + \"x + \" + str(round(intercept,2))\n",
    "plt.scatter(x_values,y_values)\n",
    "plt.plot(x_values,regress_values,\"r-\")\n",
    "#plt.annotate(line_eq,(0,25),fontsize=15,color=\"red\")\n",
    "plt.xlabel('Latitude')\n",
    "plt.ylabel('Temperature')\n",
    "plt.title(\"Northern Latitudes vs. Temperature\")\n",
    "print(f\"The r-squared is: {rvalue**2}\")\n",
    "print(f\"The p-value is: {pvalue}\")\n",
    "plt.show()\n",
    "print(line_eq)"
   ]
  },
  {
   "cell_type": "markdown",
   "metadata": {},
   "source": [
    "####  Southern Hemisphere - Max Temp vs. Latitude Linear Regression"
   ]
  },
  {
   "cell_type": "code",
   "execution_count": 72,
   "metadata": {},
   "outputs": [
    {
     "name": "stdout",
     "output_type": "stream",
     "text": [
      "The r-squared is: 0.659458173128683\n",
      "The p-value is: 5.730926029593175e-44\n"
     ]
    },
    {
     "data": {
      "image/png": "[encoded data removed]",
      "text/plain": [
       "<Figure size 432x288 with 1 Axes>"
      ]
     },
     "metadata": {
      "needs_background": "light"
     },
     "output_type": "display_data"
    },
    {
     "name": "stdout",
     "output_type": "stream",
     "text": [
      "y = 0.64x + 81.67\n"
     ]
    }
   ],
   "source": [
    "x_values = df_south[\"lat\"]\n",
    "y_values = df_south[\"temp\"]\n",
    "(slope, intercept, rvalue, pvalue, stderr) = linregress(x_values, y_values)\n",
    "regress_values = x_values * slope + intercept\n",
    "line_eq = \"y = \" + str(round(slope,2)) + \"x + \" + str(round(intercept,2))\n",
    "plt.scatter(x_values,y_values)\n",
    "plt.plot(x_values,regress_values,\"r-\")\n",
    "#plt.annotate(line_eq,(0,25),fontsize=15,color=\"red\")\n",
    "plt.xlabel('Latitude')\n",
    "plt.ylabel('Temperature')\n",
    "plt.title(\"Southern Latitudes vs. Temperature\")\n",
    "print(f\"The r-squared is: {rvalue**2}\")\n",
    "print(f\"The p-value is: {pvalue}\")\n",
    "plt.show()\n",
    "print(line_eq)"
   ]
  },
  {
   "cell_type": "markdown",
   "metadata": {},
   "source": [
    "####  Northern Hemisphere - Humidity (%) vs. Latitude Linear Regression"
   ]
  },
  {
   "cell_type": "code",
   "execution_count": 73,
   "metadata": {},
   "outputs": [
    {
     "name": "stdout",
     "output_type": "stream",
     "text": [
      "The r-squared is: 0.028400511716584222\n",
      "The p-value is: 0.0008872088851105308\n"
     ]
    },
    {
     "data": {
      "image/png": "[encoded data removed]",
      "text/plain": [
       "<Figure size 432x288 with 1 Axes>"
      ]
     },
     "metadata": {
      "needs_background": "light"
     },
     "output_type": "display_data"
    },
    {
     "name": "stdout",
     "output_type": "stream",
     "text": [
      "y = 0.19x + 61.06\n"
     ]
    }
   ],
   "source": [
    "x_values = df_north[\"lat\"]\n",
    "y_values = df_north[\"hum\"]\n",
    "(slope, intercept, rvalue, pvalue, stderr) = linregress(x_values, y_values)\n",
    "regress_values = x_values * slope + intercept\n",
    "line_eq = \"y = \" + str(round(slope,2)) + \"x + \" + str(round(intercept,2))\n",
    "plt.scatter(x_values,y_values)\n",
    "plt.plot(x_values,regress_values,\"r-\")\n",
    "#plt.annotate(line_eq,(0,25),fontsize=15,color=\"red\")\n",
    "plt.xlabel('Latitude')\n",
    "plt.ylabel('Humidity')\n",
    "plt.title(\"Northern Latitudes vs. Humidity\")\n",
    "print(f\"The r-squared is: {rvalue**2}\")\n",
    "print(f\"The p-value is: {pvalue}\")\n",
    "plt.show()\n",
    "print(line_eq)"
   ]
  },
  {
   "cell_type": "markdown",
   "metadata": {},
   "source": [
    "####  Southern Hemisphere - Humidity (%) vs. Latitude Linear Regression"
   ]
  },
  {
   "cell_type": "code",
   "execution_count": 74,
   "metadata": {},
   "outputs": [
    {
     "name": "stdout",
     "output_type": "stream",
     "text": [
      "The r-squared is: 0.0278944491637774\n",
      "The p-value is: 0.024227565574868874\n"
     ]
    },
    {
     "data": {
      "image/png": "[encoded data removed]",
      "text/plain": [
       "<Figure size 432x288 with 1 Axes>"
      ]
     },
     "metadata": {
      "needs_background": "light"
     },
     "output_type": "display_data"
    },
    {
     "name": "stdout",
     "output_type": "stream",
     "text": [
      "y = 0.21x + 75.93\n"
     ]
    }
   ],
   "source": [
    "x_values = df_south[\"lat\"]\n",
    "y_values = df_south[\"hum\"]\n",
    "(slope, intercept, rvalue, pvalue, stderr) = linregress(x_values, y_values)\n",
    "regress_values = x_values * slope + intercept\n",
    "line_eq = \"y = \" + str(round(slope,2)) + \"x + \" + str(round(intercept,2))\n",
    "plt.scatter(x_values,y_values)\n",
    "plt.plot(x_values,regress_values,\"r-\")\n",
    "#plt.annotate(line_eq,(0,25),fontsize=15,color=\"red\")\n",
    "plt.xlabel('Latitude')\n",
    "plt.ylabel('Humidity')\n",
    "plt.title(\"Southern Latitudes vs. Humidity\")\n",
    "print(f\"The r-squared is: {rvalue**2}\")\n",
    "print(f\"The p-value is: {pvalue}\")\n",
    "plt.show()\n",
    "print(line_eq)"
   ]
  },
  {
   "cell_type": "markdown",
   "metadata": {},
   "source": [
    "####  Northern Hemisphere - Cloudiness (%) vs. Latitude Linear Regression"
   ]
  },
  {
   "cell_type": "code",
   "execution_count": 75,
   "metadata": {},
   "outputs": [
    {
     "name": "stdout",
     "output_type": "stream",
     "text": [
      "The r-squared is: 0.03361258130040919\n",
      "The p-value is: 0.0002933937870851185\n"
     ]
    },
    {
     "data": {
      "image/png": "[encoded data removed]",
      "text/plain": [
       "<Figure size 432x288 with 1 Axes>"
      ]
     },
     "metadata": {
      "needs_background": "light"
     },
     "output_type": "display_data"
    },
    {
     "name": "stdout",
     "output_type": "stream",
     "text": [
      "y = 0.34x + 36.97\n"
     ]
    }
   ],
   "source": [
    "x_values = df_north[\"lat\"]\n",
    "y_values = df_north[\"cld\"]\n",
    "(slope, intercept, rvalue, pvalue, stderr) = linregress(x_values, y_values)\n",
    "regress_values = x_values * slope + intercept\n",
    "line_eq = \"y = \" + str(round(slope,2)) + \"x + \" + str(round(intercept,2))\n",
    "plt.scatter(x_values,y_values)\n",
    "plt.plot(x_values,regress_values,\"r-\")\n",
    "#plt.annotate(line_eq,(0,25),fontsize=15,color=\"red\")\n",
    "plt.xlabel('Latitude')\n",
    "plt.ylabel('Cloudiness')\n",
    "plt.title(\"Northern Latitudes vs. Cloudiness\")\n",
    "print(f\"The r-squared is: {rvalue**2}\")\n",
    "print(f\"The p-value is: {pvalue}\")\n",
    "plt.show()\n",
    "print(line_eq)"
   ]
  },
  {
   "cell_type": "markdown",
   "metadata": {},
   "source": [
    "####  Southern Hemisphere - Cloudiness (%) vs. Latitude Linear Regression"
   ]
  },
  {
   "cell_type": "code",
   "execution_count": 76,
   "metadata": {},
   "outputs": [
    {
     "name": "stdout",
     "output_type": "stream",
     "text": [
      "The r-squared is: 0.0016392326570544187\n",
      "The p-value is: 0.5873607023881198\n"
     ]
    },
    {
     "data": {
      "image/png": "[encoded data removed]",
      "text/plain": [
       "<Figure size 432x288 with 1 Axes>"
      ]
     },
     "metadata": {
      "needs_background": "light"
     },
     "output_type": "display_data"
    },
    {
     "name": "stdout",
     "output_type": "stream",
     "text": [
      "y = -0.1x + 49.81\n"
     ]
    }
   ],
   "source": [
    "x_values = df_south[\"lat\"]\n",
    "y_values = df_south[\"cld\"]\n",
    "(slope, intercept, rvalue, pvalue, stderr) = linregress(x_values, y_values)\n",
    "regress_values = x_values * slope + intercept\n",
    "line_eq = \"y = \" + str(round(slope,2)) + \"x + \" + str(round(intercept,2))\n",
    "plt.scatter(x_values,y_values)\n",
    "plt.plot(x_values,regress_values,\"r-\")\n",
    "#plt.annotate(line_eq,(0,25),fontsize=15,color=\"red\")\n",
    "plt.xlabel('Latitude')\n",
    "plt.ylabel('Cloudiness')\n",
    "plt.title(\"Southern Latitudes vs. Cloudiness\")\n",
    "print(f\"The r-squared is: {rvalue**2}\")\n",
    "print(f\"The p-value is: {pvalue}\")\n",
    "plt.show()\n",
    "print(line_eq)"
   ]
  },
  {
   "cell_type": "markdown",
   "metadata": {},
   "source": [
    "####  Northern Hemisphere - Wind Speed (mph) vs. Latitude Linear Regression"
   ]
  },
  {
   "cell_type": "code",
   "execution_count": 77,
   "metadata": {},
   "outputs": [
    {
     "name": "stdout",
     "output_type": "stream",
     "text": [
      "The r-squared is: 0.00547523896998428\n",
      "The p-value is: 0.1467678102421523\n"
     ]
    },
    {
     "data": {
      "image/png": "[encoded data removed]",
      "text/plain": [
       "<Figure size 432x288 with 1 Axes>"
      ]
     },
     "metadata": {
      "needs_background": "light"
     },
     "output_type": "display_data"
    },
    {
     "name": "stdout",
     "output_type": "stream",
     "text": [
      "y = 0.02x + 7.6\n"
     ]
    }
   ],
   "source": [
    "x_values = df_north[\"lat\"]\n",
    "y_values = df_north[\"wind\"]\n",
    "(slope, intercept, rvalue, pvalue, stderr) = linregress(x_values, y_values)\n",
    "regress_values = x_values * slope + intercept\n",
    "line_eq = \"y = \" + str(round(slope,2)) + \"x + \" + str(round(intercept,2))\n",
    "plt.scatter(x_values,y_values)\n",
    "plt.plot(x_values,regress_values,\"r-\")\n",
    "#plt.annotate(line_eq,(0,25),fontsize=15,color=\"red\")\n",
    "plt.xlabel('Latitude')\n",
    "plt.ylabel('Wind Speed')\n",
    "plt.title(\"Northern Latitudes vs. Wind Speed\")\n",
    "print(f\"The r-squared is: {rvalue**2}\")\n",
    "print(f\"The p-value is: {pvalue}\")\n",
    "plt.show()\n",
    "print(line_eq)"
   ]
  },
  {
   "cell_type": "markdown",
   "metadata": {},
   "source": [
    "####  Southern Hemisphere - Wind Speed (mph) vs. Latitude Linear Regression"
   ]
  },
  {
   "cell_type": "code",
   "execution_count": 78,
   "metadata": {},
   "outputs": [
    {
     "name": "stdout",
     "output_type": "stream",
     "text": [
      "The r-squared is: 0.08905899506603425\n",
      "The p-value is: 4.278466450660214e-05\n"
     ]
    },
    {
     "data": {
      "image/png": "[encoded data removed]",
      "text/plain": [
       "<Figure size 432x288 with 1 Axes>"
      ]
     },
     "metadata": {
      "needs_background": "light"
     },
     "output_type": "display_data"
    },
    {
     "name": "stdout",
     "output_type": "stream",
     "text": [
      "y = -0.12x + 5.37\n"
     ]
    }
   ],
   "source": [
    "x_values = df_south[\"lat\"]\n",
    "y_values = df_south[\"wind\"]\n",
    "(slope, intercept, rvalue, pvalue, stderr) = linregress(x_values, y_values)\n",
    "regress_values = x_values * slope + intercept\n",
    "line_eq = \"y = \" + str(round(slope,2)) + \"x + \" + str(round(intercept,2))\n",
    "plt.scatter(x_values,y_values)\n",
    "plt.plot(x_values,regress_values,\"r-\")\n",
    "#plt.annotate(line_eq,(0,25),fontsize=15,color=\"red\")\n",
    "plt.xlabel('Latitude')\n",
    "plt.ylabel('Wind Speed')\n",
    "plt.title(\"Southern Latitudes vs. Wind Speed\")\n",
    "print(f\"The r-squared is: {rvalue**2}\")\n",
    "print(f\"The p-value is: {pvalue}\")\n",
    "plt.show()\n",
    "print(line_eq)"
   ]
  },
  {
   "cell_type": "markdown",
   "metadata": {},
   "source": [
    "## Three Observable Trends"
   ]
  },
  {
   "cell_type": "markdown",
   "metadata": {},
   "source": [
    "Southern Hemisphere Cloudiness (.587) and Northern Hemisphere Wind Speed (.147) vs. Latitude P-Values were the only two of the eight linear regressions higher than 0.05 meaning that the model does not fit the data well. "
   ]
  },
  {
   "cell_type": "markdown",
   "metadata": {},
   "source": [
    "Northern Hemisphere Temperatures (.796) and Southern Hemisphere Temperatures (.659) vs. Latitude R-Squared means that my model explains 79.6% and 65.9% of the variation within the data respectively. "
   ]
  },
  {
   "cell_type": "markdown",
   "metadata": {},
   "source": [
    "The previous statement is very evident in the Latitude vs Temperature Scatter Plot where a parabolic curve takes shape. This makes sense because it tends to be warmer near the equator and cooler near the north or south poles in the higher (absolute value) latitudes. "
   ]
  }
 ],
 "metadata": {
  "anaconda-cloud": {},
  "kernel_info": {
   "name": "python3"
  },
  "kernelspec": {
   "display_name": "Python 3",
   "language": "python",
   "name": "python3"
  },
  "language_info": {
   "codemirror_mode": {
    "name": "ipython",
    "version": 3
   },
   "file_extension": ".py",
   "mimetype": "text/x-python",
   "name": "python",
   "nbconvert_exporter": "python",
   "pygments_lexer": "ipython3",
   "version": "3.7.6"
  },
  "latex_envs": {
   "LaTeX_envs_menu_present": true,
   "autoclose": false,
   "autocomplete": true,
   "bibliofile": "biblio.bib",
   "cite_by": "apalike",
   "current_citInitial": 1,
   "eqLabelWithNumbers": true,
   "eqNumInitial": 1,
   "hotkeys": {
    "equation": "Ctrl-E",
    "itemize": "Ctrl-I"
   },
   "labels_anchors": false,
   "latex_user_defs": false,
   "report_style_numbering": false,
   "user_envs_cfg": false
  },
  "nteract": {
   "version": "0.12.3"
  }
 },
 "nbformat": 4,
 "nbformat_minor": 2
}
